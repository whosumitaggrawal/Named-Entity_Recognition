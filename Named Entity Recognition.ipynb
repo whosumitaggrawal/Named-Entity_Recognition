{
 "cells": [
  {
   "cell_type": "code",
   "execution_count": 1,
   "id": "c435059b",
   "metadata": {},
   "outputs": [],
   "source": [
    "#improting necessary libraries\n",
    "import spacy\n",
    "import gradio as gr\n"
   ]
  },
  {
   "cell_type": "code",
   "execution_count": 2,
   "id": "b7b0d2cf",
   "metadata": {},
   "outputs": [],
   "source": [
    "# Load the pre-trained NER model\n",
    "nlp = spacy.load(\"en_core_web_sm\")\n",
    "\n",
    "def extract_named_entities(text):\n",
    "    # Process the text with the NER model\n",
    "    doc = nlp(text)\n",
    "    \n",
    "    # Extract named entities\n",
    "    named_entities = []\n",
    "    for entity in doc.ents:\n",
    "        # Check if the named entity is already listed\n",
    "        if (entity.text, entity.label_) not in named_entities:\n",
    "            named_entities.append((entity.text, entity.label_))\n",
    "    \n",
    "    # Format named entities and labels as separate lines\n",
    "    formatted_entities = \"\\n\".join([f\"{text} - {label}\" for text, label in named_entities])\n",
    "    \n",
    "    return formatted_entities"
   ]
  },
  {
   "cell_type": "code",
   "execution_count": 3,
   "id": "367059a4",
   "metadata": {},
   "outputs": [],
   "source": [
    "# Define the input and output interface\n",
    "iface = gr.Interface(\n",
    "    fn=extract_named_entities,\n",
    "    inputs=\"text\",\n",
    "    outputs=\"text\",\n",
    "    title=\"Named Entity Recognition\",\n",
    "    description=\"Identify and extract named entities from text, excluding duplicates.\"\n",
    ")"
   ]
  },
  {
   "cell_type": "code",
   "execution_count": 4,
   "id": "4dea3a0f",
   "metadata": {},
   "outputs": [
    {
     "name": "stdout",
     "output_type": "stream",
     "text": [
      "Running on local URL:  http://127.0.0.1:7860\n",
      "\n",
      "To create a public link, set `share=True` in `launch()`.\n"
     ]
    },
    {
     "data": {
      "text/html": [
       "<div><iframe src=\"http://127.0.0.1:7860/\" width=\"100%\" height=\"500\" allow=\"autoplay; camera; microphone; clipboard-read; clipboard-write;\" frameborder=\"0\" allowfullscreen></iframe></div>"
      ],
      "text/plain": [
       "<IPython.core.display.HTML object>"
      ]
     },
     "metadata": {},
     "output_type": "display_data"
    },
    {
     "data": {
      "text/plain": []
     },
     "execution_count": 4,
     "metadata": {},
     "output_type": "execute_result"
    }
   ],
   "source": [
    "# Launch the interface\n",
    "iface.launch()"
   ]
  }
 ],
 "metadata": {
  "kernelspec": {
   "display_name": "Python 3 (ipykernel)",
   "language": "python",
   "name": "python3"
  },
  "language_info": {
   "codemirror_mode": {
    "name": "ipython",
    "version": 3
   },
   "file_extension": ".py",
   "mimetype": "text/x-python",
   "name": "python",
   "nbconvert_exporter": "python",
   "pygments_lexer": "ipython3",
   "version": "3.10.9"
  }
 },
 "nbformat": 4,
 "nbformat_minor": 5
}
